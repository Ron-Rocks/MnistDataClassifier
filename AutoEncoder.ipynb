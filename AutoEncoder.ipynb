{
  "nbformat": 4,
  "nbformat_minor": 0,
  "metadata": {
    "colab": {
      "name": "AutoEncoder.ipynb",
      "provenance": [],
      "collapsed_sections": [],
      "include_colab_link": true
    },
    "kernelspec": {
      "name": "python3",
      "display_name": "Python 3"
    }
  },
  "cells": [
    {
      "cell_type": "markdown",
      "metadata": {
        "id": "view-in-github",
        "colab_type": "text"
      },
      "source": [
        "<a href=\"https://colab.research.google.com/github/Ron-Rocks/MnistDataClassifier/blob/master/AutoEncoder.ipynb\" target=\"_parent\"><img src=\"https://colab.research.google.com/assets/colab-badge.svg\" alt=\"Open In Colab\"/></a>"
      ]
    },
    {
      "cell_type": "code",
      "metadata": {
        "id": "MhM1DrjKrFwV",
        "colab_type": "code",
        "colab": {}
      },
      "source": [
        "\n",
        "from keras.layers import Conv2D,Dense,MaxPooling2D,UpSampling2D,Input,Conv2DTranspose\n",
        "from keras.models import  Model\n",
        "from keras.datasets import fashion_mnist\n",
        "import matplotlib.pyplot as plt\n",
        "\n",
        "Encoderinputs = Input(shape = (28,28,1,),name=\"input\")\n",
        "x = Conv2D(16,3,padding=\"same\",activation = \"relu\")(Encoderinputs)\n",
        "x = MaxPooling2D(2)(x)\n",
        "x = Conv2D(8,3,padding=\"same\",activation=\"relu\")(x)\n",
        "x = MaxPooling2D(2)(x)\n",
        "x = Conv2D(8,3,padding=\"same\",activation=\"relu\")(x)\n",
        "bottleNeck = MaxPooling2D(2,padding = \"same\")(x)\n",
        "\n",
        "encoder = Model(Encoderinputs,bottleNeck)\n",
        "\n",
        "Decoderinputs = Input(shape = (4,4,8,))\n",
        "y = Conv2D(8,3,padding=\"same\",activation = \"relu\")(Decoderinputs)\n",
        "y = UpSampling2D(2)(y)\n",
        "y = Conv2D(8,3,activation = \"relu\",padding=\"same\")(y)\n",
        "y = UpSampling2D(2)(y)\n",
        "y = Conv2D(16,3,activation=\"relu\")(y)\n",
        "y = UpSampling2D(2)(y)\n",
        "y = Conv2D(1,3,activation = \"sigmoid\",padding = \"same\")(y)\n",
        "\n",
        "decoder = Model(Decoderinputs,y)\n",
        "\n",
        "(xTrain,_),(xTest,_) = fashion_mnist.load_data()\n",
        "xTrain = (xTrain.reshape(-1,28,28,1))/255\n",
        "xTest = xTest.reshape(-1,28,28,1)/255\n",
        "\n",
        "\n",
        "inputs = Input(shape = (28,28,1,))\n",
        "encoded = encoder(inputs)\n",
        "decoded = decoder(encoded)\n",
        "\n",
        "autoEncoder = Model(inputs,decoded)\n",
        "\n",
        "autoEncoder.summary()\n",
        "encoder.summary()\n",
        "decoder.summary()\n",
        "\n",
        "autoEncoder.compile(optimizer=\"adam\",loss = \"binary_crossentropy\",metrics= [\"accuracy\"])\n",
        "autoEncoder.fit(xTrain,xTrain,epochs=10,validation_data=(xTest,xTest))\n",
        "\n"
      ],
      "execution_count": 0,
      "outputs": []
    }
  ]
}